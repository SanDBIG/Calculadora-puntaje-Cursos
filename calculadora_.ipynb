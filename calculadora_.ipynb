{
 "cells": [
  {
   "cell_type": "markdown",
   "id": "d28f4800",
   "metadata": {},
   "source": [
    "# Este es una calculadora para tener los puntajes de capacitaciones"
   ]
  },
  {
   "cell_type": "code",
   "execution_count": 9,
   "id": "736ee7ea",
   "metadata": {},
   "outputs": [
    {
     "name": "stdout",
     "output_type": "stream",
     "text": [
      "Partimos con este puntaje: 123\n"
     ]
    }
   ],
   "source": [
    "# Preguntar por encasillamiento inicial\n",
    "import pandas as pd\n",
    "encasillamiento_i = int(input(\"Ingresa tu puntaje de encasillamiento inicial: \"))\n",
    "\n",
    "print(f\"Partimos con este puntaje: {encasillamiento_i}\")"
   ]
  },
  {
   "cell_type": "code",
   "execution_count": 24,
   "id": "c2dffee0",
   "metadata": {},
   "outputs": [
    {
     "name": "stdout",
     "output_type": "stream",
     "text": [
      "                                              descripcion\n",
      "opcion                                                   \n",
      "a       Medicos cirujanos, Farmaceuticos, Quimico-Farm...\n",
      "b                                     Otros profesionales\n",
      "c                              Técnicos de nivel superior\n",
      "d                                       Técnicos de Salud\n",
      "e                                Administrativos de Salud\n",
      "f                        Auxiliares de servicios de Salud\n",
      "Tu categoria es: Auxiliares de servicios de Salud\n"
     ]
    }
   ],
   "source": [
    "# Clasificación de personal:\n",
    "lista_fun = {\n",
    "    'opcion': ['a', 'b', 'c', 'd', 'e', 'f'],\n",
    "    'descripcion': ['Medicos cirujanos, Farmaceuticos, Quimico-Farmaceuticos, Bioquímicos y Cirujano-Dentistas',\n",
    "                    'Otros profesionales',\n",
    "                    'Técnicos de nivel superior',\n",
    "                    'Técnicos de Salud',\n",
    "                    'Administrativos de Salud',\n",
    "                    'Auxiliares de servicios de Salud']\n",
    "}\n",
    "df_lista_fun = pd.DataFrame(lista_fun)\n",
    "df_lista_fun = df_lista_fun.set_index('opcion')\n",
    "print(df_lista_fun)\n",
    "\n",
    "# Preguntar a que letra pertenece el usuario\n",
    "while True:\n",
    "    opcion = input(\"Digita la letra de tu categoria Funcionaria: \").strip().lower()\n",
    "    \n",
    "    if opcion in df_lista_fun.index:\n",
    "        descripcion = df_lista_fun.loc[opcion, 'descripcion']\n",
    "        print(f\"Tu categoria es: {descripcion}\")\n",
    "        break\n",
    "    else:\n",
    "        print(\"Opcion no valida. Por favor elige entre A y F.\")"
   ]
  },
  {
   "cell_type": "markdown",
   "id": "b4ffb5c3",
   "metadata": {},
   "source": [
    "# Ahora se debe calcular el bienio y su respectivo puntaje segun tabla N 1"
   ]
  },
  {
   "cell_type": "code",
   "execution_count": 23,
   "id": "0ddafd71",
   "metadata": {},
   "outputs": [
    {
     "name": "stdout",
     "output_type": "stream",
     "text": [
      "               A     B     C     D     E     F\n",
      "Nivel                                         \n",
      "bienios 1    538   538   538   538   538   538\n",
      "bienios 2   1071  1071  1071  1071  1071  1071\n",
      "bienios 3   1604  1604  1604  1604  1604  1604\n",
      "bienios 4   2137  2137  2137  2137  2137  2137\n",
      "bienios 5   2670  2670  2670  2670  2670  2670\n",
      "bienios 6   3203  3203  3203  3203  3203  3203\n",
      "bienios 7   3766  3766  3766  3766  3766  3766\n",
      "bienios 8   4269  4269  4269  4269  4269  4269\n",
      "bienios 9   4802  4802  4802  4802  4802  4802\n",
      "bienios 10  5335  5335  5335  5335  5335  5335\n",
      "bienios 11  5868  5868  5868  5868  5868  5868\n",
      "bienios 12  6401  6401  6401  6401  6401  6401\n",
      "bienios 13  6934  6934  6934  6934  6934  6934\n",
      "bienios 14  7467  7467  7467  7467  7467  7467\n",
      "bienios 15  8000  8000  8000  8000  8000  8000\n",
      "Por favor ingresa un numero valido.\n",
      "Tu puntaje por bienio es: 1071\n"
     ]
    }
   ],
   "source": [
    "# Bienio y puntaje por experiencia\n",
    "\n",
    "# Cantidad de bienios\n",
    "niveles = [f\"bienios {i}\" for i in range(1,16)]\n",
    "\n",
    "# Puntaje para bienios\n",
    "puntajes = [538, 1071, 1604, 2137, 2670, 3203, 3766,\n",
    "            4269, 4802, 5335, 5868, 6401, 6934, 7467,\n",
    "            8000]\n",
    "\n",
    "df_bienios = pd.DataFrame({\n",
    "    'Nivel': niveles,\n",
    "    'A': puntajes,\n",
    "    'B': puntajes,\n",
    "    'C': puntajes,\n",
    "    'D': puntajes,\n",
    "    'E': puntajes,\n",
    "    'F': puntajes\n",
    "})\n",
    "\n",
    "df_bienios = df_bienios.set_index('Nivel')\n",
    "print(df_bienios)\n",
    "\n",
    "# Seleccion de bienio\n",
    "\n",
    "while True:\n",
    "    bienio = int(input(\"Ingresa tu bienio (1 al 15): \").strip())\n",
    "    if 1 <= bienio <= 15:\n",
    "        break\n",
    "    else:\n",
    "        print(\"Por favor ingresa un numero valido.\")\n",
    "\n",
    "# Obtener nivel\n",
    "nivel = f\"bienios {bienio}\"\n",
    "\n",
    "# Asignacion de puntaje\n",
    "\n",
    "puntaje = df_bienios.loc[nivel, 'A']\n",
    "\n",
    "print(f\"Tu puntaje por bienio es: {puntaje}\")\n"
   ]
  },
  {
   "cell_type": "markdown",
   "id": "8cbc8d31",
   "metadata": {},
   "source": [
    "# Ahora debe verse si el usuario tiene puntajes por capacitacion que vengan desde el año pasado"
   ]
  }
 ],
 "metadata": {
  "kernelspec": {
   "display_name": "Python 3",
   "language": "python",
   "name": "python3"
  },
  "language_info": {
   "codemirror_mode": {
    "name": "ipython",
    "version": 3
   },
   "file_extension": ".py",
   "mimetype": "text/x-python",
   "name": "python",
   "nbconvert_exporter": "python",
   "pygments_lexer": "ipython3",
   "version": "3.12.2"
  }
 },
 "nbformat": 4,
 "nbformat_minor": 5
}
